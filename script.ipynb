{
 "cells": [
  {
   "cell_type": "code",
   "execution_count": 1,
   "outputs": [],
   "source": [
    "# imports\n",
    "import pandas as pd\n",
    "import matplotlib.pyplot as plt\n",
    "from sklearn.model_selection import train_test_split\n",
    "from sklearn.linear_model import LinearRegression"
   ],
   "metadata": {
    "collapsed": false,
    "pycharm": {
     "name": "#%%\n"
    }
   }
  },
  {
   "cell_type": "code",
   "execution_count": 2,
   "outputs": [],
   "source": [
    "# load data\n",
    "df = pd.read_csv(\"./tennis_stats.csv\")"
   ],
   "metadata": {
    "collapsed": false,
    "pycharm": {
     "name": "#%%\n"
    }
   }
  },
  {
   "cell_type": "code",
   "execution_count": 3,
   "outputs": [
    {
     "data": {
      "text/plain": "                 Player  Year  FirstServe  FirstServePointsWon  \\\n0           Pedro Sousa  2016        0.88                 0.50   \n1       Roman Safiullin  2017        0.84                 0.62   \n2           Pedro Sousa  2017        0.83                 0.60   \n3   Rogerio Dutra Silva  2010        0.83                 0.64   \n4  Daniel Gimeno-Traver  2017        0.81                 0.54   \n\n   FirstServeReturnPointsWon  SecondServePointsWon  \\\n0                       0.38                  0.50   \n1                       0.26                  0.33   \n2                       0.28                  0.53   \n3                       0.34                  0.59   \n4                       0.00                  0.33   \n\n   SecondServeReturnPointsWon  Aces  BreakPointsConverted  BreakPointsFaced  \\\n0                        0.39     0                  0.14                 7   \n1                        0.07     7                  0.00                 7   \n2                        0.44     2                  0.38                10   \n3                        0.33     2                  0.33                 5   \n4                        0.33     1                  0.00                 2   \n\n   ...  ReturnGamesWon  ReturnPointsWon  ServiceGamesPlayed  ServiceGamesWon  \\\n0  ...            0.11             0.38                   8             0.50   \n1  ...            0.00             0.20                   9             0.67   \n2  ...            0.16             0.34                  17             0.65   \n3  ...            0.14             0.34                  15             0.80   \n4  ...            0.00             0.20                   2             0.50   \n\n   TotalPointsWon  TotalServicePointsWon  Wins  Losses  Winnings  Ranking  \n0            0.43                   0.50     1       2     39820      119  \n1            0.41                   0.57     0       1     17334      381  \n2            0.45                   0.59     4       1    109827      119  \n3            0.49                   0.63     0       0      9761      125  \n4            0.35                   0.50     0       1     32879      272  \n\n[5 rows x 24 columns]",
      "text/html": "<div>\n<style scoped>\n    .dataframe tbody tr th:only-of-type {\n        vertical-align: middle;\n    }\n\n    .dataframe tbody tr th {\n        vertical-align: top;\n    }\n\n    .dataframe thead th {\n        text-align: right;\n    }\n</style>\n<table border=\"1\" class=\"dataframe\">\n  <thead>\n    <tr style=\"text-align: right;\">\n      <th></th>\n      <th>Player</th>\n      <th>Year</th>\n      <th>FirstServe</th>\n      <th>FirstServePointsWon</th>\n      <th>FirstServeReturnPointsWon</th>\n      <th>SecondServePointsWon</th>\n      <th>SecondServeReturnPointsWon</th>\n      <th>Aces</th>\n      <th>BreakPointsConverted</th>\n      <th>BreakPointsFaced</th>\n      <th>...</th>\n      <th>ReturnGamesWon</th>\n      <th>ReturnPointsWon</th>\n      <th>ServiceGamesPlayed</th>\n      <th>ServiceGamesWon</th>\n      <th>TotalPointsWon</th>\n      <th>TotalServicePointsWon</th>\n      <th>Wins</th>\n      <th>Losses</th>\n      <th>Winnings</th>\n      <th>Ranking</th>\n    </tr>\n  </thead>\n  <tbody>\n    <tr>\n      <th>0</th>\n      <td>Pedro Sousa</td>\n      <td>2016</td>\n      <td>0.88</td>\n      <td>0.50</td>\n      <td>0.38</td>\n      <td>0.50</td>\n      <td>0.39</td>\n      <td>0</td>\n      <td>0.14</td>\n      <td>7</td>\n      <td>...</td>\n      <td>0.11</td>\n      <td>0.38</td>\n      <td>8</td>\n      <td>0.50</td>\n      <td>0.43</td>\n      <td>0.50</td>\n      <td>1</td>\n      <td>2</td>\n      <td>39820</td>\n      <td>119</td>\n    </tr>\n    <tr>\n      <th>1</th>\n      <td>Roman Safiullin</td>\n      <td>2017</td>\n      <td>0.84</td>\n      <td>0.62</td>\n      <td>0.26</td>\n      <td>0.33</td>\n      <td>0.07</td>\n      <td>7</td>\n      <td>0.00</td>\n      <td>7</td>\n      <td>...</td>\n      <td>0.00</td>\n      <td>0.20</td>\n      <td>9</td>\n      <td>0.67</td>\n      <td>0.41</td>\n      <td>0.57</td>\n      <td>0</td>\n      <td>1</td>\n      <td>17334</td>\n      <td>381</td>\n    </tr>\n    <tr>\n      <th>2</th>\n      <td>Pedro Sousa</td>\n      <td>2017</td>\n      <td>0.83</td>\n      <td>0.60</td>\n      <td>0.28</td>\n      <td>0.53</td>\n      <td>0.44</td>\n      <td>2</td>\n      <td>0.38</td>\n      <td>10</td>\n      <td>...</td>\n      <td>0.16</td>\n      <td>0.34</td>\n      <td>17</td>\n      <td>0.65</td>\n      <td>0.45</td>\n      <td>0.59</td>\n      <td>4</td>\n      <td>1</td>\n      <td>109827</td>\n      <td>119</td>\n    </tr>\n    <tr>\n      <th>3</th>\n      <td>Rogerio Dutra Silva</td>\n      <td>2010</td>\n      <td>0.83</td>\n      <td>0.64</td>\n      <td>0.34</td>\n      <td>0.59</td>\n      <td>0.33</td>\n      <td>2</td>\n      <td>0.33</td>\n      <td>5</td>\n      <td>...</td>\n      <td>0.14</td>\n      <td>0.34</td>\n      <td>15</td>\n      <td>0.80</td>\n      <td>0.49</td>\n      <td>0.63</td>\n      <td>0</td>\n      <td>0</td>\n      <td>9761</td>\n      <td>125</td>\n    </tr>\n    <tr>\n      <th>4</th>\n      <td>Daniel Gimeno-Traver</td>\n      <td>2017</td>\n      <td>0.81</td>\n      <td>0.54</td>\n      <td>0.00</td>\n      <td>0.33</td>\n      <td>0.33</td>\n      <td>1</td>\n      <td>0.00</td>\n      <td>2</td>\n      <td>...</td>\n      <td>0.00</td>\n      <td>0.20</td>\n      <td>2</td>\n      <td>0.50</td>\n      <td>0.35</td>\n      <td>0.50</td>\n      <td>0</td>\n      <td>1</td>\n      <td>32879</td>\n      <td>272</td>\n    </tr>\n  </tbody>\n</table>\n<p>5 rows × 24 columns</p>\n</div>"
     },
     "execution_count": 3,
     "metadata": {},
     "output_type": "execute_result"
    }
   ],
   "source": [
    "# inspect data\n",
    "df.head()"
   ],
   "metadata": {
    "collapsed": false,
    "pycharm": {
     "name": "#%%\n"
    }
   }
  },
  {
   "cell_type": "code",
   "execution_count": 5,
   "outputs": [
    {
     "name": "stdout",
     "output_type": "stream",
     "text": [
      "Index(['Player', 'Year', 'FirstServe', 'FirstServePointsWon',\n",
      "       'FirstServeReturnPointsWon', 'SecondServePointsWon',\n",
      "       'SecondServeReturnPointsWon', 'Aces', 'BreakPointsConverted',\n",
      "       'BreakPointsFaced', 'BreakPointsOpportunities', 'BreakPointsSaved',\n",
      "       'DoubleFaults', 'ReturnGamesPlayed', 'ReturnGamesWon',\n",
      "       'ReturnPointsWon', 'ServiceGamesPlayed', 'ServiceGamesWon',\n",
      "       'TotalPointsWon', 'TotalServicePointsWon', 'Wins', 'Losses', 'Winnings',\n",
      "       'Ranking'],\n",
      "      dtype='object')\n"
     ]
    }
   ],
   "source": [
    "# check columns\n",
    "print(df.columns)"
   ],
   "metadata": {
    "collapsed": false,
    "pycharm": {
     "name": "#%%\n"
    }
   }
  },
  {
   "cell_type": "code",
   "execution_count": 32,
   "outputs": [
    {
     "data": {
      "text/plain": "<Figure size 640x480 with 1 Axes>",
      "image/png": "[encoded data removed]"
     },
     "metadata": {},
     "output_type": "display_data"
    }
   ],
   "source": [
    "# Evaluate each possible correlations (on scatterplot)\n",
    "# 1. Aces\n",
    "# 2. BreakPointsFaced\n",
    "# 3. BreakPointsOpportunities\n",
    "# 4. DoubleFaults\n",
    "# 5. ReturnGamesPlayed\n",
    "# 6. ServiceGamesPlayed\n",
    "\n",
    "# Example of scatterplot analysis\n",
    "plt.scatter(df[\"Winnings\"], df[\"BreakPointsOpportunities\"])\n",
    "plt.xlabel(\"Break Points Opportunities\")\n",
    "plt.ylabel(\"Winnings ($USD)\")\n",
    "plt.show()"
   ],
   "metadata": {
    "collapsed": false,
    "pycharm": {
     "name": "#%%\n"
    }
   }
  },
  {
   "cell_type": "code",
   "execution_count": 33,
   "outputs": [],
   "source": [
    "# Build single Linear Regression Model\n",
    "\n",
    "# Single Feature and label\n",
    "feature = df[['BreakPointsOpportunities']]\n",
    "label = df[['Winnings']]"
   ],
   "metadata": {
    "collapsed": false,
    "pycharm": {
     "name": "#%%\n"
    }
   }
  },
  {
   "cell_type": "code",
   "execution_count": 34,
   "outputs": [],
   "source": [
    "# Split data\n",
    "x_train, x_test, y_train, y_test = train_test_split(feature, label, test_size=0.25, random_state=100)"
   ],
   "metadata": {
    "collapsed": false,
    "pycharm": {
     "name": "#%%\n"
    }
   }
  },
  {
   "cell_type": "code",
   "execution_count": 35,
   "outputs": [
    {
     "data": {
      "text/plain": "LinearRegression()",
      "text/html": "<style>#sk-container-id-1 {color: black;background-color: white;}#sk-container-id-1 pre{padding: 0;}#sk-container-id-1 div.sk-toggleable {background-color: white;}#sk-container-id-1 label.sk-toggleable__label {cursor: pointer;display: block;width: 100%;margin-bottom: 0;padding: 0.3em;box-sizing: border-box;text-align: center;}#sk-container-id-1 label.sk-toggleable__label-arrow:before {content: \"▸\";float: left;margin-right: 0.25em;color: #696969;}#sk-container-id-1 label.sk-toggleable__label-arrow:hover:before {color: black;}#sk-container-id-1 div.sk-estimator:hover label.sk-toggleable__label-arrow:before {color: black;}#sk-container-id-1 div.sk-toggleable__content {max-height: 0;max-width: 0;overflow: hidden;text-align: left;background-color: #f0f8ff;}#sk-container-id-1 div.sk-toggleable__content pre {margin: 0.2em;color: black;border-radius: 0.25em;background-color: #f0f8ff;}#sk-container-id-1 input.sk-toggleable__control:checked~div.sk-toggleable__content {max-height: 200px;max-width: 100%;overflow: auto;}#sk-container-id-1 input.sk-toggleable__control:checked~label.sk-toggleable__label-arrow:before {content: \"▾\";}#sk-container-id-1 div.sk-estimator input.sk-toggleable__control:checked~label.sk-toggleable__label {background-color: #d4ebff;}#sk-container-id-1 div.sk-label input.sk-toggleable__control:checked~label.sk-toggleable__label {background-color: #d4ebff;}#sk-container-id-1 input.sk-hidden--visually {border: 0;clip: rect(1px 1px 1px 1px);clip: rect(1px, 1px, 1px, 1px);height: 1px;margin: -1px;overflow: hidden;padding: 0;position: absolute;width: 1px;}#sk-container-id-1 div.sk-estimator {font-family: monospace;background-color: #f0f8ff;border: 1px dotted black;border-radius: 0.25em;box-sizing: border-box;margin-bottom: 0.5em;}#sk-container-id-1 div.sk-estimator:hover {background-color: #d4ebff;}#sk-container-id-1 div.sk-parallel-item::after {content: \"\";width: 100%;border-bottom: 1px solid gray;flex-grow: 1;}#sk-container-id-1 div.sk-label:hover label.sk-toggleable__label {background-color: #d4ebff;}#sk-container-id-1 div.sk-serial::before {content: \"\";position: absolute;border-left: 1px solid gray;box-sizing: border-box;top: 0;bottom: 0;left: 50%;z-index: 0;}#sk-container-id-1 div.sk-serial {display: flex;flex-direction: column;align-items: center;background-color: white;padding-right: 0.2em;padding-left: 0.2em;position: relative;}#sk-container-id-1 div.sk-item {position: relative;z-index: 1;}#sk-container-id-1 div.sk-parallel {display: flex;align-items: stretch;justify-content: center;background-color: white;position: relative;}#sk-container-id-1 div.sk-item::before, #sk-container-id-1 div.sk-parallel-item::before {content: \"\";position: absolute;border-left: 1px solid gray;box-sizing: border-box;top: 0;bottom: 0;left: 50%;z-index: -1;}#sk-container-id-1 div.sk-parallel-item {display: flex;flex-direction: column;z-index: 1;position: relative;background-color: white;}#sk-container-id-1 div.sk-parallel-item:first-child::after {align-self: flex-end;width: 50%;}#sk-container-id-1 div.sk-parallel-item:last-child::after {align-self: flex-start;width: 50%;}#sk-container-id-1 div.sk-parallel-item:only-child::after {width: 0;}#sk-container-id-1 div.sk-dashed-wrapped {border: 1px dashed gray;margin: 0 0.4em 0.5em 0.4em;box-sizing: border-box;padding-bottom: 0.4em;background-color: white;}#sk-container-id-1 div.sk-label label {font-family: monospace;font-weight: bold;display: inline-block;line-height: 1.2em;}#sk-container-id-1 div.sk-label-container {text-align: center;}#sk-container-id-1 div.sk-container {/* jupyter's `normalize.less` sets `[hidden] { display: none; }` but bootstrap.min.css set `[hidden] { display: none !important; }` so we also need the `!important` here to be able to override the default hidden behavior on the sphinx rendered scikit-learn.org. See: https://github.com/scikit-learn/scikit-learn/issues/21755 */display: inline-block !important;position: relative;}#sk-container-id-1 div.sk-text-repr-fallback {display: none;}</style><div id=\"sk-container-id-1\" class=\"sk-top-container\"><div class=\"sk-text-repr-fallback\"><pre>LinearRegression()</pre><b>In a Jupyter environment, please rerun this cell to show the HTML representation or trust the notebook. <br />On GitHub, the HTML representation is unable to render, please try loading this page with nbviewer.org.</b></div><div class=\"sk-container\" hidden><div class=\"sk-item\"><div class=\"sk-estimator sk-toggleable\"><input class=\"sk-toggleable__control sk-hidden--visually\" id=\"sk-estimator-id-1\" type=\"checkbox\" checked><label for=\"sk-estimator-id-1\" class=\"sk-toggleable__label sk-toggleable__label-arrow\">LinearRegression</label><div class=\"sk-toggleable__content\"><pre>LinearRegression()</pre></div></div></div></div></div>"
     },
     "execution_count": 35,
     "metadata": {},
     "output_type": "execute_result"
    }
   ],
   "source": [
    "# train the model\n",
    "linreg = LinearRegression()\n",
    "linreg.fit(x_train, y_train)"
   ],
   "metadata": {
    "collapsed": false,
    "pycharm": {
     "name": "#%%\n"
    }
   }
  },
  {
   "cell_type": "code",
   "execution_count": 36,
   "outputs": [
    {
     "name": "stdout",
     "output_type": "stream",
     "text": [
      "Training score: 0.8082722500245938\n",
      "Test score: 0.8158713995023225\n"
     ]
    }
   ],
   "source": [
    "# Evaluate score\n",
    "train_score = linreg.score(x_train, y_train)\n",
    "test_score = linreg.score(x_test, y_test)\n",
    "print(\"Training score: \" + str(train_score))\n",
    "print(\"Test score: \" + str(test_score))"
   ],
   "metadata": {
    "collapsed": false,
    "pycharm": {
     "name": "#%%\n"
    }
   }
  },
  {
   "cell_type": "code",
   "execution_count": 39,
   "outputs": [
    {
     "data": {
      "text/plain": "<Figure size 640x480 with 1 Axes>",
      "image/png": "[encoded data removed]"
     },
     "metadata": {},
     "output_type": "display_data"
    }
   ],
   "source": [
    "# Evaluate using graph\n",
    "y_predicted = linreg.predict(x_test)\n",
    "plt.plot(y_test, y_predicted, 'o')\n",
    "plt.xlabel(\"Actual winnings\")\n",
    "plt.ylabel(\"Predicted winnings\")\n",
    "plt.show()"
   ],
   "metadata": {
    "collapsed": false,
    "pycharm": {
     "name": "#%%\n"
    }
   }
  },
  {
   "cell_type": "code",
   "execution_count": 40,
   "outputs": [
    {
     "name": "stdout",
     "output_type": "stream",
     "text": [
      "Training score: 0.6254432961325673\n",
      "Test score: 0.6658391074247063\n"
     ]
    }
   ],
   "source": [
    "# Do a few more single Linear Regression to get an idea of most correlated features\n",
    "\n",
    "# 1\n",
    "feature = df[['Aces']]\n",
    "label = df[['Winnings']]\n",
    "# Split data\n",
    "x_train, x_test, y_train, y_test = train_test_split(feature, label, test_size=0.25, random_state=100)\n",
    "# train the model\n",
    "linreg = LinearRegression()\n",
    "linreg.fit(x_train, y_train)\n",
    "\n",
    "# Evaluate score\n",
    "train_score = linreg.score(x_train, y_train)\n",
    "test_score = linreg.score(x_test, y_test)\n",
    "print(\"Training score: \" + str(train_score))\n",
    "print(\"Test score: \" + str(test_score))"
   ],
   "metadata": {
    "collapsed": false,
    "pycharm": {
     "name": "#%%\n"
    }
   }
  },
  {
   "cell_type": "code",
   "execution_count": 41,
   "outputs": [
    {
     "name": "stdout",
     "output_type": "stream",
     "text": [
      "Training score: 0.7550829718558374\n",
      "Test score: 0.7973920931469505\n"
     ]
    }
   ],
   "source": [
    "# 2\n",
    "feature = df[['BreakPointsFaced']]\n",
    "label = df[['Winnings']]\n",
    "# Split data\n",
    "x_train, x_test, y_train, y_test = train_test_split(feature, label, test_size=0.25, random_state=100)\n",
    "# train the model\n",
    "linreg = LinearRegression()\n",
    "linreg.fit(x_train, y_train)\n",
    "\n",
    "# Evaluate score\n",
    "train_score = linreg.score(x_train, y_train)\n",
    "test_score = linreg.score(x_test, y_test)\n",
    "print(\"Training score: \" + str(train_score))\n",
    "print(\"Test score: \" + str(test_score))"
   ],
   "metadata": {
    "collapsed": false,
    "pycharm": {
     "name": "#%%\n"
    }
   }
  },
  {
   "cell_type": "code",
   "execution_count": 42,
   "outputs": [
    {
     "name": "stdout",
     "output_type": "stream",
     "text": [
      "Training score: 0.7134637741009047\n",
      "Test score: 0.7728782607673913\n"
     ]
    }
   ],
   "source": [
    "# 3\n",
    "feature = df[['DoubleFaults']]\n",
    "label = df[['Winnings']]\n",
    "# Split data\n",
    "x_train, x_test, y_train, y_test = train_test_split(feature, label, test_size=0.25, random_state=100)\n",
    "# train the model\n",
    "linreg = LinearRegression()\n",
    "linreg.fit(x_train, y_train)\n",
    "\n",
    "# Evaluate score\n",
    "train_score = linreg.score(x_train, y_train)\n",
    "test_score = linreg.score(x_test, y_test)\n",
    "print(\"Training score: \" + str(train_score))\n",
    "print(\"Test score: \" + str(test_score))"
   ],
   "metadata": {
    "collapsed": false,
    "pycharm": {
     "name": "#%%\n"
    }
   }
  },
  {
   "cell_type": "code",
   "execution_count": 43,
   "outputs": [
    {
     "name": "stdout",
     "output_type": "stream",
     "text": [
      "Training score: 0.8263457262960543\n",
      "Test score: 0.8485410465549851\n"
     ]
    }
   ],
   "source": [
    "# 4\n",
    "feature = df[['ReturnGamesPlayed']]\n",
    "label = df[['Winnings']]\n",
    "# Split data\n",
    "x_train, x_test, y_train, y_test = train_test_split(feature, label, test_size=0.25, random_state=100)\n",
    "# train the model\n",
    "linreg = LinearRegression()\n",
    "linreg.fit(x_train, y_train)\n",
    "\n",
    "# Evaluate score\n",
    "train_score = linreg.score(x_train, y_train)\n",
    "test_score = linreg.score(x_test, y_test)\n",
    "print(\"Training score: \" + str(train_score))\n",
    "print(\"Test score: \" + str(test_score))"
   ],
   "metadata": {
    "collapsed": false,
    "pycharm": {
     "name": "#%%\n"
    }
   }
  },
  {
   "cell_type": "code",
   "execution_count": 44,
   "outputs": [
    {
     "name": "stdout",
     "output_type": "stream",
     "text": [
      "Training score: 0.8269413541180664\n",
      "Test score: 0.8494525340509761\n"
     ]
    }
   ],
   "source": [
    "# 5\n",
    "feature = df[['ServiceGamesPlayed']]\n",
    "label = df[['Winnings']]\n",
    "# Split data\n",
    "x_train, x_test, y_train, y_test = train_test_split(feature, label, test_size=0.25, random_state=100)\n",
    "# train the model\n",
    "linreg = LinearRegression()\n",
    "linreg.fit(x_train, y_train)\n",
    "\n",
    "# Evaluate score\n",
    "train_score = linreg.score(x_train, y_train)\n",
    "test_score = linreg.score(x_test, y_test)\n",
    "print(\"Training score: \" + str(train_score))\n",
    "print(\"Test score: \" + str(test_score))"
   ],
   "metadata": {
    "collapsed": false,
    "pycharm": {
     "name": "#%%\n"
    }
   }
  },
  {
   "cell_type": "code",
   "execution_count": 48,
   "outputs": [],
   "source": [
    "# Lists of features with high scores\n",
    "# 1. ServiceGamesPlayed\n",
    "# 2. ReturnGamesPlayed\n",
    "# 3. BreakPointFaced\n",
    "# 4. BreakPointsOpportunities"
   ],
   "metadata": {
    "collapsed": false,
    "pycharm": {
     "name": "#%%\n"
    }
   }
  },
  {
   "cell_type": "code",
   "execution_count": 50,
   "outputs": [
    {
     "name": "stdout",
     "output_type": "stream",
     "text": [
      "Training score: 0.827043883196638\n",
      "Test score: 0.8497547816394669\n"
     ]
    }
   ],
   "source": [
    "# Combine two features and create 3D linreg model\n",
    "# 1\n",
    "\n",
    "feature = df[['ServiceGamesPlayed', 'ReturnGamesPlayed']]\n",
    "label = df[['Winnings']]\n",
    "# Split data\n",
    "x_train, x_test, y_train, y_test = train_test_split(feature, label, test_size=0.25, random_state=100)\n",
    "# train the model\n",
    "linreg = LinearRegression()\n",
    "linreg.fit(x_train, y_train)\n",
    "\n",
    "# Evaluate score\n",
    "train_score = linreg.score(x_train, y_train)\n",
    "test_score = linreg.score(x_test, y_test)\n",
    "print(\"Training score: \" + str(train_score))\n",
    "print(\"Test score: \" + str(test_score))\n"
   ],
   "metadata": {
    "collapsed": false,
    "pycharm": {
     "name": "#%%\n"
    }
   }
  },
  {
   "cell_type": "code",
   "execution_count": 51,
   "outputs": [
    {
     "name": "stdout",
     "output_type": "stream",
     "text": [
      "Training score: 0.8088275092415136\n",
      "Test score: 0.8127531654655715\n"
     ]
    }
   ],
   "source": [
    "# 2\n",
    "feature = df[['BreakPointsFaced', 'BreakPointsOpportunities']]\n",
    "label = df[['Winnings']]\n",
    "# Split data\n",
    "x_train, x_test, y_train, y_test = train_test_split(feature, label, test_size=0.25, random_state=100)\n",
    "# train the model\n",
    "linreg = LinearRegression()\n",
    "linreg.fit(x_train, y_train)\n",
    "\n",
    "# Evaluate score\n",
    "train_score = linreg.score(x_train, y_train)\n",
    "test_score = linreg.score(x_test, y_test)\n",
    "print(\"Training score: \" + str(train_score))\n",
    "print(\"Test score: \" + str(test_score))"
   ],
   "metadata": {
    "collapsed": false,
    "pycharm": {
     "name": "#%%\n"
    }
   }
  },
  {
   "cell_type": "code",
   "execution_count": 67,
   "outputs": [
    {
     "name": "stdout",
     "output_type": "stream",
     "text": [
      "Training score: 0.8576836959092142\n",
      "Test score: 0.8844780598403726\n"
     ]
    }
   ],
   "source": [
    "# Multiples Linreg model\n",
    "feature = df[['ServiceGamesPlayed', 'ReturnGamesPlayed', 'BreakPointsFaced', 'Wins', 'Losses']]\n",
    "label = df[['Winnings']]\n",
    "# Split data\n",
    "x_train, x_test, y_train, y_test = train_test_split(feature, label, test_size=0.25, random_state=100)\n",
    "# train the model\n",
    "linreg = LinearRegression()\n",
    "linreg.fit(x_train, y_train)\n",
    "\n",
    "# Evaluate score\n",
    "train_score = linreg.score(x_train, y_train)\n",
    "test_score = linreg.score(x_test, y_test)\n",
    "print(\"Training score: \" + str(train_score))\n",
    "print(\"Test score: \" + str(test_score))"
   ],
   "metadata": {
    "collapsed": false,
    "pycharm": {
     "name": "#%%\n"
    }
   }
  },
  {
   "cell_type": "code",
   "execution_count": 62,
   "outputs": [
    {
     "name": "stdout",
     "output_type": "stream",
     "text": [
      "Training score: 0.8405754357047147\n",
      "Test score: 0.836794062314953\n"
     ]
    }
   ],
   "source": [
    "\n",
    "# All features into linreg model\n",
    "feature = df[['FirstServe','FirstServePointsWon','FirstServeReturnPointsWon',\n",
    "              'SecondServePointsWon','SecondServeReturnPointsWon','Aces',\n",
    "              'BreakPointsConverted','BreakPointsFaced','BreakPointsOpportunities',\n",
    "              'BreakPointsSaved','DoubleFaults','ReturnGamesPlayed','ReturnGamesWon',\n",
    "              'ReturnPointsWon','ServiceGamesPlayed','ServiceGamesWon','TotalPointsWon',\n",
    "              'TotalServicePointsWon']]\n",
    "label = df[['Winnings']]\n",
    "# Split data\n",
    "x_train, x_test, y_train, y_test = train_test_split(feature, label, test_size=0.25, random_state=100)\n",
    "# train the model\n",
    "linreg = LinearRegression()\n",
    "linreg.fit(x_train, y_train)\n",
    "\n",
    "# Evaluate score\n",
    "train_score = linreg.score(x_train, y_train)\n",
    "test_score = linreg.score(x_test, y_test)\n",
    "print(\"Training score: \" + str(train_score))\n",
    "print(\"Test score: \" + str(test_score))"
   ],
   "metadata": {
    "collapsed": false,
    "pycharm": {
     "name": "#%%\n"
    }
   }
  },
  {
   "cell_type": "code",
   "execution_count": 68,
   "outputs": [],
   "source": [
    "# In conclusion, using features: 'ServiceGamesPlayed', 'ReturnGamesPlayed', 'BreakPointsFaced', 'Wins', 'Loses'\n",
    "# yield the highest accuracy of:\n",
    "#                         Training Score: 85.7%\n",
    "#                         Test Score: 88.4%"
   ],
   "metadata": {
    "collapsed": false,
    "pycharm": {
     "name": "#%%\n"
    }
   }
  }
 ],
 "metadata": {
  "kernelspec": {
   "display_name": "Python 3",
   "language": "python",
   "name": "python3"
  },
  "language_info": {
   "codemirror_mode": {
    "name": "ipython",
    "version": 2
   },
   "file_extension": ".py",
   "mimetype": "text/x-python",
   "name": "python",
   "nbconvert_exporter": "python",
   "pygments_lexer": "ipython2",
   "version": "2.7.6"
  }
 },
 "nbformat": 4,
 "nbformat_minor": 0
}